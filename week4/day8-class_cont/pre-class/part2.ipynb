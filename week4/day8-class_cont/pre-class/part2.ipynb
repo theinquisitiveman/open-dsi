{
 "cells": [
  {
   "cell_type": "markdown",
   "metadata": {
    "deletable": true,
    "editable": true
   },
   "source": [
    "# Introductory Notes\n",
    "\n",
    "Throughout this notebook you should be experimenting with the code in the non-text cells where possible. A great way to begin to get a feel for Python is by playing with it. So, have some fun by changing the values in the cells and then running them again with Shift-Enter.\n",
    "\n",
    "At the end of each section there will be some questions to help further your understanding. Remember, in Python we can always manually test things by trying them out; however, you should try to think about the answers to these questions before you run some code. This way you can check and verify your understanding of the section's topic.\n",
    "\n",
    "As this notebook addresses more advanced features of classes, classes are necessary to experiment with the topics covered. This means you can either work with the example code provided and/or experiment with the questions at the end. The more experimentation the better!\n",
    "\n",
    "## Other Magic Methods\n",
    "\n",
    "It turns out that there are many other magic methods that you can implement on you custom classes. In fact, we've already seen one! The `__init__()`, which is called when the class constructor is called, this is why it always performs the class setup.\n",
    "\n",
    "As discussed above most of the magic methods allow for you to make your classes interact with already existing features in Python. This process is called operator overloading, and implementing magic methods on our classes is how we do it. \n",
    "\n",
    "For example, have you tried printing one of your custom classes? If you try with an instance of the `OurClass` class you'd get something like: `<__main__.OurClass instance at 0x10a157a28>`. This isn't very informative. How do we get a more useful printout of our classes, then? With the `__str__()` method! This is the method that is called when you try to cast an object as a string with the `str()` constructor. Non-coincidentally, objects are cast as strings by Python when you call `print()`, as Python only knows how to represent strings on the screen. Let's take a look at what a `__str__()` method could look like so we can print an instance of `OurClass` and get something useful."
   ]
  },
  {
   "cell_type": "code",
   "execution_count": 1,
   "metadata": {
    "collapsed": true,
    "deletable": true,
    "editable": true
   },
   "outputs": [],
   "source": [
    "class OurClass(): \n",
    "    def __init__(self, name, location, size=0): \n",
    "        self.name = name\n",
    "        self.location = location\n",
    "        self.size = size\n",
    "        self.questions_asked = []\n",
    "        if self.size >= 20: \n",
    "            self.at_capacity = True\n",
    "        else: \n",
    "            self.at_capacity = False\n",
    "\n",
    "    def __str__(self):\n",
    "        our_class_string = '{}, location: {}'\n",
    "        return our_class_string.format(self.name, self.location)\n",
    "\n",
    "    def add_question_asked(self, question): \n",
    "        self.questions_asked.append(question)\n",
    "    \n",
    "    def add_class_members(self, num): \n",
    "        self.size += num\n",
    "\n",
    "        if self.size >= 20: \n",
    "            print('Capacity Reached!!')\n",
    "            self.at_capacity = True\n",
    "\n",
    "    def check_if_at_capacity(self): \n",
    "        return self.at_capacity"
   ]
  },
  {
   "cell_type": "code",
   "execution_count": 4,
   "metadata": {
    "collapsed": false,
    "deletable": true,
    "editable": true
   },
   "outputs": [
    {
     "name": "stdout",
     "output_type": "stream",
     "text": [
      "Intro Python, location: Platte\n"
     ]
    }
   ],
   "source": [
    "our_class = OurClass('Intro Python', 'Platte', 15)\n",
    "print(our_class)"
   ]
  },
  {
   "cell_type": "markdown",
   "metadata": {
    "deletable": true,
    "editable": true
   },
   "source": [
    "Note, the return type from the `__str__()` method must be a string when you implement your own. Now when we try to print an instance of `OurClass` we actually get something useful.\n",
    "\n",
    "**More Magic Methods Questions**\n",
    "  * Using the Cowboy class template below, implement a magic `__str__()` method so that instances of the class display the name of the cowboy and their favorite drink when printed."
   ]
  },
  {
   "cell_type": "code",
   "execution_count": 5,
   "metadata": {
    "collapsed": true,
    "deletable": true,
    "editable": true
   },
   "outputs": [],
   "source": [
    "class Cowboy():\n",
    "    def __init__(self, name, drink='Whiskey'):\n",
    "        self.name = name\n",
    "        self.drink = drink\n",
    "        self.showdown_record = []\n",
    "    \n",
    "    def add_showdown(self, record):\n",
    "        if record in ['win', 'loss']:\n",
    "            self.showdown_record.append(record)\n",
    "        else:\n",
    "            print(\"Only accepts 'win' or 'loss'\")"
   ]
  },
  {
   "cell_type": "markdown",
   "metadata": {
    "deletable": true,
    "editable": true
   },
   "source": [
    "## Magic Methods for the Win\n",
    "\n",
    "If we can decide if two numbers, or strings, etc. are equal with the equality operator, `==`, why can't we make a custom class do the same? Turns out we can! With the magic `__eq__()` method we can enable two instances of our class to be compared. \n",
    "\n",
    "So how would our class know that it's getting compared to another object to check to equality? If you take a look at the specification for how python will use the magic `__eq__()` method [here](https://docs.python.org/2/reference/datamodel.html#object.__eq__) it specifies that the arguments to be passed look like: `object.__eq__(self, other)`. We already know that `self` is a reference to the instance that the method is being called on and it turns out that `other` is a reference to an instance as well. \n",
    "\n",
    "The way that Python evaluates an expression like `x == y` is that it calls the `__eq__()` method on the first argument to the expression, `x` and passes a reference to that variable, then it looks on the other side of the `==` and passes a reference to that variable as the second argument to `__eq__()`. So, the `other` argument that we see above is just a reference to another instance! Since it's a reference to another instance we can access attributes and methods of that instance via the name `other`!\n",
    "\n",
    "For example, we might consider two instances of `OurClass` equal if they have the same name and location. The way that we would have out class implement this behavior is by overloading the `==` via implementing the `__eq__()` method. Let's take a look."
   ]
  },
  {
   "cell_type": "code",
   "execution_count": 13,
   "metadata": {
    "collapsed": false,
    "deletable": true,
    "editable": true
   },
   "outputs": [],
   "source": [
    "class OurClass(): \n",
    "    def __init__(self, name, location, size=0): \n",
    "        self.name = name\n",
    "        self.location = location\n",
    "        self.size = size\n",
    "        self.questions_asked = []\n",
    "        if self.size >= 20: \n",
    "            self.at_capacity = True\n",
    "        else: \n",
    "            self.at_capacity = False\n",
    "\n",
    "    def __eq__(self, other):\n",
    "        return self.name == other.name and self.location == other.location\n",
    "\n",
    "    def add_question_asked(self, question): \n",
    "        self.questions_asked.append(question)\n",
    "    \n",
    "    def add_class_members(self, num): \n",
    "        self.size += num\n",
    "\n",
    "        if self.size >= 20: \n",
    "            print('Capacity Reached!!')\n",
    "            self.at_capacity = True\n",
    "\n",
    "    def check_if_at_capacity(self): \n",
    "        return self.at_capacity"
   ]
  },
  {
   "cell_type": "code",
   "execution_count": 14,
   "metadata": {
    "collapsed": false,
    "deletable": true,
    "editable": true
   },
   "outputs": [
    {
     "data": {
      "text/plain": [
       "True"
      ]
     },
     "execution_count": 14,
     "metadata": {},
     "output_type": "execute_result"
    }
   ],
   "source": [
    "our_class = OurClass('Intro Python', 'Platte', 15)\n",
    "another_class = OurClass('Intro Python', 'Platte', 20)\n",
    "our_class == another_class"
   ]
  },
  {
   "cell_type": "markdown",
   "metadata": {
    "deletable": true,
    "editable": true
   },
   "source": [
    "Notice that we easily have access to information about the other instance through dot notation. Also, as we would expect the `==` operator to return a boolean we should take special care to make sure that we return things from our magic methods that make sense in context!\n",
    "\n",
    "**Even more magic method questions**\n",
    "  * What do you expect if you compare the class instances `our_class` and `another_class`, from above, with the not equal, `!=`, operator? Think about it, and then try it out.\n",
    "  * Add a new magic method so that the comparison of two `OurClass` instances with `!=` works. Test your implementation to make sure it works. If you're not sure where to start, take a look at the link above to the info about `__eq__()`."
   ]
  },
  {
   "cell_type": "markdown",
   "metadata": {
    "deletable": true,
    "editable": true
   },
   "source": [
    "#### Tons of Magic Methods\n",
    "\n",
    "For the most part, any of the seemingly simple functionality that is built into Python data structures, and that we take for granted, can be implemented via a magic method in our custom classes. Take a look at [this](https://docs.python.org/2/reference/datamodel.html#special-method-names) link to get a sense for all the things magic methods can do."
   ]
  }
 ],
 "metadata": {
  "kernelspec": {
   "display_name": "Python 3",
   "language": "python",
   "name": "python3"
  },
  "language_info": {
   "codemirror_mode": {
    "name": "ipython",
    "version": 3
   },
   "file_extension": ".py",
   "mimetype": "text/x-python",
   "name": "python",
   "nbconvert_exporter": "python",
   "pygments_lexer": "ipython3",
   "version": "3.6.0"
  }
 },
 "nbformat": 4,
 "nbformat_minor": 0
}
