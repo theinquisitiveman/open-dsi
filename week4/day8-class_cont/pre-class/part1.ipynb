{
 "cells": [
  {
   "cell_type": "markdown",
   "metadata": {
    "deletable": true,
    "editable": true
   },
   "source": [
    "# Introductory Notes\n",
    "\n",
    "Throughout this notebook you should be experimenting with the code in the non-text cells where possible. A great way to begin to get a feel for Python is by playing with it. So, have some fun by changing the values in the cells and then running them again with Shift-Enter.\n",
    "\n",
    "At the end of each section there will be some questions to help further your understanding. Remember, in Python we can always manually test things by trying them out; however, you should try to think about the answers to these questions before you run some code. This way you can check and verify your understanding of the section's topic.\n",
    "\n",
    "As this notebook addresses more advanced features of classes, classes are necessary to experiment with the topics covered. This means you can either work with the example code provided and/or experiment with the questions at the end. The more experimentation the better!\n",
    "\n",
    "## Magic Methods\n",
    "\n",
    "There are a number of things that we have been taking for granted in our use of Python so far. Let's dive into an example of where we were using some functionality built into Python, but didn't think too much about how it was working."
   ]
  },
  {
   "cell_type": "code",
   "execution_count": 1,
   "metadata": {
    "collapsed": true,
    "deletable": true,
    "editable": true
   },
   "outputs": [],
   "source": [
    "my_list = [1, 2, 3]\n",
    "my_dict = {1: 'first', 2: 'second'}"
   ]
  },
  {
   "cell_type": "code",
   "execution_count": 2,
   "metadata": {
    "collapsed": false,
    "deletable": true,
    "editable": true
   },
   "outputs": [
    {
     "data": {
      "text/plain": [
       "3"
      ]
     },
     "execution_count": 2,
     "metadata": {},
     "output_type": "execute_result"
    }
   ],
   "source": [
    "len(my_list)"
   ]
  },
  {
   "cell_type": "code",
   "execution_count": 3,
   "metadata": {
    "collapsed": false,
    "deletable": true,
    "editable": true
   },
   "outputs": [
    {
     "data": {
      "text/plain": [
       "2"
      ]
     },
     "execution_count": 3,
     "metadata": {},
     "output_type": "execute_result"
    }
   ],
   "source": [
    "len(my_dict)"
   ]
  },
  {
   "cell_type": "markdown",
   "metadata": {
    "deletable": true,
    "editable": true
   },
   "source": [
    "Here, we are using the `len()` function (a Python built-in), passing it a list and then a dictionary. This might seem fairly natural now, but if you take a moment to think about how this works, you may run into some logical stops. One question that might come to mind is how we are able to pass two different data structures to `len()`, and have that `len()` function know what we're asking? Furthermore, how does it reason about how \"long\" these different data structures are? Given our knowledge of how functions work, how does this `len()` function do what it does above? \n",
    "\n",
    "What's happening under the hood when we pass a data structure to the `len()` function is that Python is going to that object and running its `__len__()` method. Ok, that sounds cool, but what does it all mean? This is an example of a **magic method**, and we will dive into them shortly. For now, know that magic methods allow us to give more robust functionality to our classes in terms of how they interact with Python. So, just as the `__len__()` method was called when both a list and a dictionary were passed to the `len()` function, we can define a `__len__()` method on our custom classes. Then, Python will know what to do when you pass an instance of that class to the `len()` method (the exact implementation of how that `__len__()` works is entirely up to you!)\n",
    "\n",
    "**Intro Magic Method Question**\n",
    "\n",
    "  * Think of a couple of built-in Python functions, like `len()` that operate on multiple types of data structures. These can also include operators. e.g. the less-than operator `<`, consider that it can operate on numerics, in addition to strings, lists, etc.\n",
    "  \n",
    "### Polymorphism Detour\n",
    "\n",
    "The above case of `len()` being able to operate on different types of Python objects is a great example of **polymorphism**, an idea we quickly discussed last class. Let's take a moment to get a better handle on this idea. **Polymorphism** is defined as the provision of the same interface for entities of different types.\n",
    "\n",
    "We see that idea in direct action in the above example. Though we were passing different types of entities to the `len()` function, because it implements the `__len__()` method on whatever object was passed to it, and any object can implement that method, we see this notion of the same interface. And, even further, we see the benefits of setting up a paradigm with this design principle implemented. To make something work with `len()`, all you have to do is make sure it implements the `__len__()` method. And, tada! The general structure of the interface, polymorphism in action, takes care of the rest.\n",
    "\n",
    "Speaking of which. How do we define these \"magic\" methods?? End detour.\n",
    "\n",
    "### Defining a Magic Method\n",
    "\n",
    "Defining a magic method is as easy as defining any other method in a class. We actually did it last time with the `__init__()` method. So, all you have to do is start with a `def`, and then the name of the magic method with the double underscores. **Note**: All methods with names beginning and ending with double underscores are magic methods, and this naming convention is reserved for them.\n",
    "\n",
    "Let's take a look at this with the `OurClass` class we created last time. I'm going to add a `__len__()` implementation to the code from last lecture. Considering that the `len()` function should return a number, it seems reasonable to have it return the number of questions asked. Let's take a look."
   ]
  },
  {
   "cell_type": "code",
   "execution_count": 4,
   "metadata": {
    "collapsed": true,
    "deletable": true,
    "editable": true
   },
   "outputs": [],
   "source": [
    "class OurClass(): \n",
    "    def __init__(self, name, location, size=0): \n",
    "        self.name = name\n",
    "        self.location = location\n",
    "        self.size = size\n",
    "        self.questions_asked = []\n",
    "        if self.size >= 20: \n",
    "            self.at_capacity = True\n",
    "        else: \n",
    "            self.at_capacity = False\n",
    "\n",
    "    def __len__(self):\n",
    "        return len(self.questions_asked)\n",
    "\n",
    "    def add_question_asked(self, question): \n",
    "        self.questions_asked.append(question)\n",
    "    \n",
    "    def add_class_members(self, num): \n",
    "        self.size += num\n",
    "\n",
    "        if self.size >= 20: \n",
    "            print('Capacity Reached!!')\n",
    "            self.at_capacity = True\n",
    "\n",
    "    def check_if_at_capacity(self): \n",
    "        return self.at_capacity"
   ]
  },
  {
   "cell_type": "markdown",
   "metadata": {
    "deletable": true,
    "editable": true
   },
   "source": [
    "Now we can have `len()` interact with instances of `OurClass`."
   ]
  },
  {
   "cell_type": "code",
   "execution_count": 5,
   "metadata": {
    "collapsed": true,
    "deletable": true,
    "editable": true
   },
   "outputs": [],
   "source": [
    "our_class = OurClass('Intro Python', 'Platte', 15)"
   ]
  },
  {
   "cell_type": "code",
   "execution_count": 6,
   "metadata": {
    "collapsed": false,
    "deletable": true,
    "editable": true
   },
   "outputs": [
    {
     "data": {
      "text/plain": [
       "0"
      ]
     },
     "execution_count": 6,
     "metadata": {},
     "output_type": "execute_result"
    }
   ],
   "source": [
    "len(our_class)"
   ]
  },
  {
   "cell_type": "code",
   "execution_count": 7,
   "metadata": {
    "collapsed": true,
    "deletable": true,
    "editable": true
   },
   "outputs": [],
   "source": [
    "our_class.add_question_asked(\"What's he going to show?\")\n",
    "our_class.add_question_asked('Do you know the answer?')"
   ]
  },
  {
   "cell_type": "code",
   "execution_count": 8,
   "metadata": {
    "collapsed": false,
    "deletable": true,
    "editable": true
   },
   "outputs": [
    {
     "data": {
      "text/plain": [
       "2"
      ]
     },
     "execution_count": 8,
     "metadata": {},
     "output_type": "execute_result"
    }
   ],
   "source": [
    "len(our_class)"
   ]
  },
  {
   "cell_type": "markdown",
   "metadata": {
    "deletable": true,
    "editable": true
   },
   "source": [
    "Just as we'd expect, we get the number of questions when calling `len()`. For reference, check out what would happen if we hadn't defined an implementation for `__len__()`."
   ]
  },
  {
   "cell_type": "code",
   "execution_count": 9,
   "metadata": {
    "collapsed": true,
    "deletable": true,
    "editable": true
   },
   "outputs": [],
   "source": [
    "class OurClass(): \n",
    "    def __init__(self, name, location, size=0): \n",
    "        self.name = name\n",
    "        self.location = location\n",
    "        self.size = size\n",
    "        self.questions_asked = []\n",
    "        if self.size >= 20: \n",
    "            self.at_capacity = True\n",
    "        else: \n",
    "            self.at_capacity = False\n",
    "\n",
    "    def add_question_asked(self, question): \n",
    "        self.questions_asked.append(question)\n",
    "    \n",
    "    def add_class_members(self, num): \n",
    "        self.size += num\n",
    "\n",
    "        if self.size >= 20: \n",
    "            print('Capacity Reached!!')\n",
    "            self.at_capacity = True\n",
    "\n",
    "    def check_if_at_capacity(self): \n",
    "        return self.at_capacity"
   ]
  },
  {
   "cell_type": "code",
   "execution_count": 10,
   "metadata": {
    "collapsed": true,
    "deletable": true,
    "editable": true
   },
   "outputs": [],
   "source": [
    "our_class = OurClass('Intro Python', 'Platte', 15)"
   ]
  },
  {
   "cell_type": "code",
   "execution_count": 11,
   "metadata": {
    "collapsed": false,
    "deletable": true,
    "editable": true
   },
   "outputs": [
    {
     "ename": "AttributeError",
     "evalue": "OurClass instance has no attribute '__len__'",
     "output_type": "error",
     "traceback": [
      "\u001b[0;31m---------------------------------------------------------------------------\u001b[0m",
      "\u001b[0;31mAttributeError\u001b[0m                            Traceback (most recent call last)",
      "\u001b[0;32m<ipython-input-11-ae0663a04767>\u001b[0m in \u001b[0;36m<module>\u001b[0;34m()\u001b[0m\n\u001b[0;32m----> 1\u001b[0;31m \u001b[0mlen\u001b[0m\u001b[0;34m(\u001b[0m\u001b[0mour_class\u001b[0m\u001b[0;34m)\u001b[0m\u001b[0;34m\u001b[0m\u001b[0m\n\u001b[0m",
      "\u001b[0;31mAttributeError\u001b[0m: OurClass instance has no attribute '__len__'"
     ]
    }
   ],
   "source": [
    "len(our_class)"
   ]
  },
  {
   "cell_type": "markdown",
   "metadata": {
    "deletable": true,
    "editable": true
   },
   "source": [
    "An error! At least Python lets us know that it's related to having no length, a problem that we now know how to fix!\n",
    "\n",
    "**Implement Magic Method Question**\n",
    "  * In the code for the `Cowboy` class below, implement a `__len__()` method that returns the number of wins a cowboy has."
   ]
  },
  {
   "cell_type": "code",
   "execution_count": 12,
   "metadata": {
    "collapsed": true,
    "deletable": true,
    "editable": true
   },
   "outputs": [],
   "source": [
    "class Cowboy():\n",
    "    def __init__(self, name):\n",
    "        self.name = name\n",
    "        self.showdown_record = []\n",
    "    \n",
    "    def add_showdown(self, record):\n",
    "        if record in ['win', 'loss']:\n",
    "            self.showdown_record.append(record)\n",
    "        else:\n",
    "            print(\"Only accepts 'win' or 'loss'\")"
   ]
  }
 ],
 "metadata": {
  "kernelspec": {
   "display_name": "Python 3",
   "language": "python",
   "name": "python3"
  },
  "language_info": {
   "codemirror_mode": {
    "name": "ipython",
    "version": 3
   },
   "file_extension": ".py",
   "mimetype": "text/x-python",
   "name": "python",
   "nbconvert_exporter": "python",
   "pygments_lexer": "ipython3",
   "version": "3.6.0"
  }
 },
 "nbformat": 4,
 "nbformat_minor": 0
}
