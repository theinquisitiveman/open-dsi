{
 "cells": [
  {
   "cell_type": "markdown",
   "metadata": {},
   "source": [
    "# Introductory Notes\n",
    "\n",
    "Throughout this entire notebook you should be experimenting with the code in the non-text cells. A great way to begin to get a feel for Python is by playing with it. So have some fun by changing the values in the cells and then running them again with Shift-Enter. Before you do, think about what you expect the output to be, and make sure your intuition matches up with what you run. If it doesn't, take some time to think about what happened so you can hone your intuition.\n",
    "\n",
    "At the end of each section there will be some questions to help further your understanding. Remember, in Python we can always manually test code by running it; however, you should try to think about the answers to these questions before you run some code. This way you can check and verify your understanding of the section's topic.\n",
    "\n",
    "## Object-Oriented Programming (OOP) with Classes \n",
    "\n",
    "### Background/Motivation \n",
    "\n",
    "From [wikipedia](https://en.wikipedia.org/wiki/Object-oriented_programming): Object-oriented programming (OOP) is a programming paradigm based on the concept of \"objects\". **Objects** are data structures that contain data, in the form of fields, often known as attributes; and code, in the form of procedures, often known as methods.\n",
    "\n",
    "How does OOP relate to Python? It turns out that everything in Python is an object. Everything in Python stores data, and has methods that operate on that data. Strings are a perfect example of this. When we have a string, it stores the individual characters that make up the string (these are the data, or **attributes**), and we have **methods** (`lower()`, `upper()`, `replace()`, etc.) that operate on that data.\n",
    "\n",
    "With knowledge of what an object is, let's discuss how they are related to **classes**. A **class** is simply a blueprint that describes the format of an object. It tells us what data an object will store, and what methods that object will have available.  By building different classes (i.e. blueprints), we can create different objects (and then they can interact with each other, which we'll get to). Why use classes, though? \n",
    "\n",
    "We use classes for much of the same reasons that we use functions - *reusability* and *abstraction* (there are actually some additional design principles behind OOP that we'll go into shortly). Classes allow us to build reusable objects while at the same time abstracting away the inner workings of those objects. This way, users of our classes can build objects and then interact with them without really caring how any of it is working under the hood. For example, when we interact with strings using the `replace()` method, we don't have to think about that `replace()` method works; we just have to know that it will work.\n",
    "\n",
    "### Design Principles \n",
    "\n",
    "The motivation for object-oriented programming (OOP) is actually heavily rooted in design principles, namely the principles of *inheritance*, *encapsulation*, and *polymorphism*. This terminology is more of an advanced topic in computer programming, and we'll only cover it briefly here (while it is advanced, any treatment of OOP should at least mention these, which is why we do here).\n",
    "\n",
    "* **Inheritance** - When a class is based on another class, building off of the existing class to take advantage of existing behavior, while having additional specific behavior of its own. \n",
    "* **Encapsulation** - The practice of hiding the inner workings of our class, and only exposing what is necessary to the outside world. This idea is effectively the same as the idea of **abstraction**, and allows users of our classes to only care about the what (i.e. what our class can do) and not the how (i.e. how our class does what it does). Unlike abstraction, however, encapsulation refers to the abstraction of both the data and the interaction with said data.\n",
    "* **Polymorphism** - The provision of a single interface to entities of different types. This enables us to use a shared interface for similar classes while at the same time still allowing each class to have its own specialized behavior. \n",
    "\n",
    "While OOP does enjoy the benefits of the above design principles, it also kind of matches how we think about the world. The world is composed of objects, where objects can be people, houses, cars, buildings, etc. These objects have some properties about them (i.e. they contain data), and they can do things (i.e. they have methods that can be applied). Object oriented programming approaches a programming problem by using objects that interact with each other, much like they do in the real world. \n",
    "\n",
    "**Background Questions**\n",
    "\n",
    "We've mentioned that everything in Python is an object that stores data (**attributes**) and has functions that operate on that data (**methods**). We discussed how the individual characters of a string are its attributes, and that functions like `replace()`, `upper()`, etc. were the methods.\n",
    "\n",
    "1. Given a `list` of `[1, 2, 3, 4, 5]`:\n",
    "  * What are the **attributes** of this `list` object? \n",
    "  * Can you think of a couple of **methods** that we can use to operate on these **attributes**, and/or to add additional **attributes** to our list?\n",
    "  * Does the way we access the **attributes** and **methods** on this list differ if we were to try to do so for any other list?\n",
    "2. Given a dictionary of `{'Indiana': 'Indianapolis', 'Colorado': 'Denver', 'Iowa': 'Des Moine'}`: \n",
    "  * What are the **attributes** of this `dictionary` object? \n",
    "  * What are some **methods** that we can call to operate on these **attributes**?\n",
    "  * Does the way we access the **attributes** and **methods** on this dictionary differ if we were to try to do so for any other dictionary?\n",
    "3. Given a `tuple` of `('red' , 'green', 'blue')`:\n",
    "  * What are the **attributes** of this `tuple` object? \n",
    "  * What are some of the **methods** that we can call to operate on these **attributes** (remember, for a `tuple` there are only a few)?\n",
    "  * Does the way we access the **attributes** and **methods** on this tuple differ if we were to try to do so for any other tuple?"
   ]
  }
 ],
 "metadata": {
  "kernelspec": {
   "display_name": "Python 2",
   "language": "python",
   "name": "python2"
  },
  "language_info": {
   "codemirror_mode": {
    "name": "ipython",
    "version": 2
   },
   "file_extension": ".py",
   "mimetype": "text/x-python",
   "name": "python",
   "nbconvert_exporter": "python",
   "pygments_lexer": "ipython2",
   "version": "2.7.11"
  }
 },
 "nbformat": 4,
 "nbformat_minor": 0
}
