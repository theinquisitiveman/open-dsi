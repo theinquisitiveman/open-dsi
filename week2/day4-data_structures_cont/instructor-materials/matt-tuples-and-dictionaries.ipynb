{
 "cells": [
  {
   "cell_type": "markdown",
   "metadata": {},
   "source": [
    "## Review of Lists"
   ]
  },
  {
   "cell_type": "markdown",
   "metadata": {},
   "source": [
    "#### Exercise: Mutability\n",
    "\n",
    "Change the numbers in even position in this list into thier doubles\n",
    "\n",
    "```python\n",
    "[1, 2, 3, 4, 5, 6] -> [2, 2, 6, 4, 10, 6]\n",
    "```\n",
    "\n",
    "Hint: `enumerate` is useful!"
   ]
  },
  {
   "cell_type": "markdown",
   "metadata": {},
   "source": [
    "## Tuples - Immutable Lists"
   ]
  },
  {
   "cell_type": "markdown",
   "metadata": {},
   "source": [
    "#### Exercise: Adding Points\n",
    "\n",
    "Given the two points below, write some code that adds the points.  So, for example `(1, 2) + (-1, 3)` should be `(0, 5)`."
   ]
  },
  {
   "cell_type": "code",
   "execution_count": 3,
   "metadata": {
    "collapsed": true
   },
   "outputs": [],
   "source": [
    "p1 = (1, 2)\n",
    "p2 = (-1, 3)\n",
    "\n",
    "# Now add the two points."
   ]
  },
  {
   "cell_type": "markdown",
   "metadata": {},
   "source": [
    "#### Exercise: Sequence of Tuples\n",
    "\n",
    "Write some code (probably containing a loop), that starts with a positive integer (say `n = 4`) and prints out a sequence of tuples of the form `(i, i+2)`.  For example, we could print out:\n",
    "\n",
    "```\n",
    "(0, 2)\n",
    "(1, 3)\n",
    "(2, 4)\n",
    "(3, 5)\n",
    "(4, 6)\n",
    "```"
   ]
  },
  {
   "cell_type": "markdown",
   "metadata": {},
   "source": [
    "#### Exercise: List of Tuples\n",
    "\n",
    "Given the list of tuples below, call the first element of a tuple the *key* and the second the *value*.  Given a specific key, pull out value from the list of tuples that is associated with the key."
   ]
  },
  {
   "cell_type": "code",
   "execution_count": 2,
   "metadata": {
    "collapsed": true
   },
   "outputs": [],
   "source": [
    "list_of_tuples = [\n",
    "    (\"Wire\", \"Pink Flag\"),\n",
    "    (\"Gang of Four\", \"Entertainment!\"),\n",
    "    (\"Joy Division\", \"Unknown Pleasures\"),\n",
    "    (\"Pere Ubu\", \"Dub Housing\"),\n",
    "    (\"Public Image Ltd\", \"First Issue\")\n",
    "]\n",
    "\n",
    "key = \"Pere Ubu\"\n",
    "# Now pull out the value with key Pere Ubu.  The result should be \"Dub Housing\"."
   ]
  },
  {
   "cell_type": "markdown",
   "metadata": {},
   "source": [
    "## Dictionaries - Key, Value Associations"
   ]
  },
  {
   "cell_type": "markdown",
   "metadata": {},
   "source": [
    "#### Exercise: List of Tuples Revisited\n",
    "\n",
    "Solve the list of tuples problem by creating a dictionary, and then looking up a key in the dictionary."
   ]
  },
  {
   "cell_type": "markdown",
   "metadata": {},
   "source": [
    "#### Exercise: Alphabet Dictionary\n",
    "\n",
    "Create a dictionary whose keys are letters in the alphabet, and whose values are thier *poisition* within the alphabet."
   ]
  },
  {
   "cell_type": "code",
   "execution_count": 5,
   "metadata": {
    "collapsed": true
   },
   "outputs": [],
   "source": [
    "# This may be useful!\n",
    "letters = 'abcdefghijklmnopqrstuvwxyz'"
   ]
  },
  {
   "cell_type": "markdown",
   "metadata": {},
   "source": [
    "#### Exercise: Dictionary Reversal\n",
    "\n",
    "Given the charecter, position alphabet dictionary above, *reverse it*.  For example, if we start with the dictionary \n",
    "\n",
    "```python\n",
    "{'a': 1, 'b': 2, 'c': 3}\n",
    "```\n",
    "\n",
    "Create the reversed dictionary\n",
    "\n",
    "```python\n",
    "{1: 'a', 2: 'b', 3: 'c'}\n",
    "```"
   ]
  },
  {
   "cell_type": "markdown",
   "metadata": {},
   "source": [
    "#### Exercise: Number Pairs\n",
    "\n",
    "Given the list of numbers below, create a dictionary whose keys are *pairs* of these numbers, and whose values are the sum of the two numbers.  For example, under the pair 2, 3, we would store the sum number 5."
   ]
  },
  {
   "cell_type": "code",
   "execution_count": 15,
   "metadata": {
    "collapsed": true
   },
   "outputs": [],
   "source": [
    "numbers = [1, 2, 3, 4, 5]"
   ]
  },
  {
   "cell_type": "markdown",
   "metadata": {},
   "source": [
    "#### Exercise: Dictionary Reversal Revisited\n",
    "\n",
    "As we have seen, when we add a key to a dictionary multiple times, the value gets overwritten.  This has consequences for reversing a dictionary\n",
    "\n",
    "```python\n",
    "{'a': 1, 'b': 2, 'c': 2} -> {1: 'a', 2: 'c'}\n",
    "```\n",
    "\n",
    "Fix this issue by using a dictionary of lists\n",
    "\n",
    "```python\n",
    "{'a': 1, 'b': 2, 'c': 2} -> {1: ['a'], 2: ['b', 'c']}\n",
    "```"
   ]
  },
  {
   "cell_type": "markdown",
   "metadata": {},
   "source": [
    "#### Exercise: Dictionary of Words\n",
    "\n",
    "Given a list of words, create a dictionary of lists that contains the words stored under thier first letter.\n",
    "\n",
    "```python\n",
    "['A', 'cat', 'cannot', 'carry', 'on', 'conversation']\n",
    "    -> {'a': ['A'], 'c': ['cat', 'cannot', 'carry', 'conversation'], 'o': ['on']}\n",
    "```"
   ]
  },
  {
   "cell_type": "markdown",
   "metadata": {},
   "source": [
    "#### Exercise: Sentence of Words\n",
    "\n",
    "Given a string containing a sentence, create a dictionary of lists that contains the words stored under thier first letter.\n",
    "\n",
    "```python\n",
    "\"A cat cannot carry on conversation.\"\n",
    "    -> {'a': ['A'], 'c': ['cat', 'cannot', 'carry', 'conversation'], 'o': ['on']}\n",
    "```"
   ]
  },
  {
   "cell_type": "markdown",
   "metadata": {},
   "source": [
    "#### Exercise: Paragraph of Words\n",
    "\n",
    "Given a string containing a paragraph, create a dictionary of lists that contains the words in the paragraph stored under thier first letter.\n",
    "\n",
    "```python\n",
    "\n",
    "\"A cat cannot carry on conversation.  This is a tragic ordeal, as my roomate is a cat.  Oh, for want of human friends.\"\n",
    "    -> ...\n",
    "```"
   ]
  },
  {
   "cell_type": "markdown",
   "metadata": {},
   "source": [
    "#### Exercise: Counting Words\n",
    "\n",
    "Given a string containing a paragraph, count the number of words in the paragraph that begin with each letter."
   ]
  },
  {
   "cell_type": "markdown",
   "metadata": {},
   "source": [
    "## Sets - Unordered Collections"
   ]
  },
  {
   "cell_type": "markdown",
   "metadata": {},
   "source": [
    "#### Exercise: Prime Numbers\n",
    "\n",
    "Create a set containing the prime numbers between one and one-hundered.\n",
    "\n",
    "```python\n",
    "{2, 3, 5, 7, 11, 13, 17, 19, 23, 29, 31, 37, 41, 43, 47, 53, 59, 61, 67, 71, 73, 79, 83, 89, 97}\n",
    "```"
   ]
  },
  {
   "cell_type": "markdown",
   "metadata": {},
   "source": [
    "#### Exercise: Primes From a File\n",
    "\n",
    "The file primes.py contains the prime numbers between one and five-hundered, one per line.\n",
    "\n",
    "Read in the file, and use it to create a set containing these prime numbers."
   ]
  },
  {
   "cell_type": "markdown",
   "metadata": {},
   "source": [
    "#### Exercise: Checking for Primality\n",
    "\n",
    "Given the set of five hundred primes from above, use it to check if a number between one and five-hundered is prime."
   ]
  },
  {
   "cell_type": "markdown",
   "metadata": {},
   "source": [
    "#### Exercise: Elements in Common\n",
    "\n",
    "Given the following list of sets, create a set contiaining the elements that are in *all* of the sets."
   ]
  },
  {
   "cell_type": "code",
   "execution_count": 17,
   "metadata": {
    "collapsed": true
   },
   "outputs": [],
   "source": [
    "list_of_sets = [\n",
    "    {1, 2, 3, 4, 5}, {1, 3, 5, 6}, {2, 3, 4, 5}, {0, 2, 5, 7}\n",
    "]"
   ]
  },
  {
   "cell_type": "markdown",
   "metadata": {},
   "source": [
    "#### Difficult Exercise: Serious Primes Time\n",
    "\n",
    "Read about the [Sieve of Eratosthenes](https://en.wikipedia.org/wiki/Sieve_of_Eratosthenes).  Use this idea to create a set containing all the primes between one and one-hundered-million."
   ]
  }
 ],
 "metadata": {
  "kernelspec": {
   "display_name": "Python [conda env:py36]",
   "language": "python",
   "name": "conda-env-py36-py"
  },
  "language_info": {
   "codemirror_mode": {
    "name": "ipython",
    "version": 3
   },
   "file_extension": ".py",
   "mimetype": "text/x-python",
   "name": "python",
   "nbconvert_exporter": "python",
   "pygments_lexer": "ipython3",
   "version": "3.6.1"
  }
 },
 "nbformat": 4,
 "nbformat_minor": 2
}
