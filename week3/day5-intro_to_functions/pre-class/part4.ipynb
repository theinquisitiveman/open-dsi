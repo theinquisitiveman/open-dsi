{
 "cells": [
  {
   "cell_type": "markdown",
   "metadata": {
    "deletable": true,
    "editable": true
   },
   "source": [
    "# Introductory Notes\n",
    "\n",
    "Throughout this entire notebook you should be experimenting with the code in the non-text cells. A great way to begin to get a feel for Python is by playing with it. So have some fun by changing the values in the cells and then running them again with Shift-Enter. Before you do, think about what you expect the output to be, and make sure your intuition matches up with what you run. If it doesn't, take some time to think about what happened so you can hone your intuition.\n",
    "\n",
    "At the end of each section there will be some questions to help further your understanding. Remember, in Python we can always manually test code by running it; however, you should try to think about the answers to these questions before you run some code. This way you can check and verify your understanding of the section's topic.\n",
    "\n",
    "### List and Dictionary Comprehensions\n",
    "\n",
    "The last topic we'll cover today is a different way to construct lists and dictionaries. Up to now, every time that we have built up a list or dictionary, we began by initializing it. We then took advantage of their mutability inherent to build them up one element or key-value pair at a time. However, there is a more succinct way to accomplish the vast majority of your list and dictionary construction tasks.\n",
    "\n",
    "#### List Comprehensions\n",
    "\n",
    "Before we dive into the specifics about how this new tool (list comprehensions) works, let's look at an example question where we build a list.  We can then show how to perform the same task with our new tool and learn how it works.\n",
    "\n",
    "Let's imagine that we have the list `[1, 5, 9, 33]` stored in the variable `my_list`. Now, let's assume that we want to make a new list of the squares of all the values in `my_list` and call it `my_squares`. With the tools we have covered so far, you might write:"
   ]
  },
  {
   "cell_type": "code",
   "execution_count": 1,
   "metadata": {
    "collapsed": false,
    "deletable": true,
    "editable": true
   },
   "outputs": [
    {
     "name": "stdout",
     "output_type": "stream",
     "text": [
      "[1, 25, 81, 1089]\n"
     ]
    }
   ],
   "source": [
    "my_list = [1, 5, 9, 33]\n",
    "my_squares = []\n",
    "for num in my_list:\n",
    "    my_squares.append(num ** 2)\n",
    "print(my_squares)"
   ]
  },
  {
   "cell_type": "markdown",
   "metadata": {
    "deletable": true,
    "editable": true
   },
   "source": [
    "Now, `my_squares` will hold the list `[1, 25, 81, 1089]`. To get this, we were simply specifying a bunch of stuff that we wanted to add on to the end of the `my_squares` list, with a starting point at `my_list`. So, from a high level, we can write the framework of creating a list in code as:\n",
    "\n",
    "```python\n",
    "list_were_building = []\n",
    "for thing in iterable:\n",
    "    list_were_building.append(transform(thing))\n",
    "```\n",
    "\n",
    "With this structure in mind, we can use the following syntax to perform the same task of building up a list in a single line! Check it out, along with how it would look for the construction of `my_squares`.\n",
    "\n",
    "```python\n",
    "list_were_building = [transform(thing) for thing in iterable]\n",
    "```\n",
    "\n",
    "This last line of code does the exact same thing as the three lines above! In this line, the thing that we would pass to the `append()` method, `transform(thing)`, comes at the beginning of the statement in the `[]`.  These `[]` allow for the final product to be defined as a list. Then, the `for` loop statement that we had written is at the end. This is the basic idea behind the [list comprehension](https://en.wikipedia.org/wiki/List_comprehension).\n",
    "\n",
    "Similarly, we can build our `my_squares` list using a list comprehension:"
   ]
  },
  {
   "cell_type": "code",
   "execution_count": 2,
   "metadata": {
    "collapsed": false,
    "deletable": true,
    "editable": true
   },
   "outputs": [
    {
     "name": "stdout",
     "output_type": "stream",
     "text": [
      "[1, 25, 81, 1089]\n"
     ]
    }
   ],
   "source": [
    "my_squares2 = [num ** 2 for num in my_list]\n",
    "print(my_squares2)"
   ]
  },
  {
   "cell_type": "markdown",
   "metadata": {
    "deletable": true,
    "editable": true
   },
   "source": [
    "But wait! There's more! Remember in all the examples where we were getting evens, we had a condition to decide when to append a value to a list? We can also use conditions to determine what \"transformed things\" get added in a list comprehension! Let's look at the evens list builder to hammer this home.\n",
    "\n",
    "```python\n",
    "# Old way of constructing list of evens\n",
    "evens = []\n",
    "for num in range(10):\n",
    "    if num % 2 == 0:\n",
    "        evens.append(num)\n",
    "\n",
    "# Old way at high level\n",
    "list_were_building = []\n",
    "for thing in iterable:\n",
    "    if condition:\n",
    "        list_were_building.append(transform(thing))\n",
    "\n",
    "# List comprehension way of constructing list of evens\n",
    "evens = [num for num in range(10) if num % 2 == 0]\n",
    "\n",
    "# List comprehension way at high level\n",
    "list_were_building = [transform(thing) for thing in iterable if condition]\n",
    "```\n",
    "The way `transform()` was called in the above examples, as though it were a function, is an option when writing list comps. For example, the `my_squares` example could be accomplished in the same way with:\n",
    "\n",
    "```python\n",
    "def square(num):\n",
    "    return num ** 2\n",
    "\n",
    "my_squares = [square(num) for num in my_list]\n",
    "```\n",
    "\n",
    "This might seem silly, since we could just write `num ** 2` directly in the list comp as we did above. However, this calling of a function in the list comp becomes a powerful idea when you want to transform the values being iterated over in a complex way.\n",
    "\n",
    "#### Dictionary Comprehensions\n",
    "\n",
    "Just as list comprehensions are a more succinct way of constructing a list, we have the same ability for dictionaries. Dictionary comprehensions operate in the same way as their list counterparts, except for one fundamental difference. Recall that dictionaries have no `append()` method, and that a new key-value pair is added to the dictionary with the syntax: `my_dict[new_key] = new_value`. In this way, it makes sense that we need syntax to pass both the key and value to the dictionary comprehension.\n",
    "\n",
    "Luckily, Python gives a simple way to pass a key and value pair, and it is already very familiar to you! You just separate the key and value that you want to enter into the dictionary with a colon, like we did when we were hardcoding the contents in the `{}` dictionary constructor, i.e. `my_dict = {1: 1, 2: 4}`. Let's look at an example where we make a dictionary with the keys as the numbers 1 - 5, and the values as the squares of the keys. We'll do this with both the old way of constructing a dictionary, and then with a dictionary comprehension so that we can see the similarities."
   ]
  },
  {
   "cell_type": "code",
   "execution_count": 3,
   "metadata": {
    "collapsed": false,
    "deletable": true,
    "editable": true
   },
   "outputs": [
    {
     "name": "stdout",
     "output_type": "stream",
     "text": [
      "{1: 1, 2: 4, 3: 9, 4: 16, 5: 25}\n"
     ]
    }
   ],
   "source": [
    "# Standard way. \n",
    "squares_dict = {}\n",
    "for num in range(1, 6): \n",
    "    squares_dict[num] = num ** 2\n",
    "print squares_dict"
   ]
  },
  {
   "cell_type": "code",
   "execution_count": 4,
   "metadata": {
    "collapsed": false,
    "deletable": true,
    "editable": true
   },
   "outputs": [
    {
     "name": "stdout",
     "output_type": "stream",
     "text": [
      "{1: 1, 2: 4, 3: 9, 4: 16, 5: 25}\n"
     ]
    }
   ],
   "source": [
    "# Dictionary Comprehension way. \n",
    "squares_dict2 = {num: num ** 2 for num in range(1, 6)}\n",
    "print squares_dict2"
   ]
  },
  {
   "cell_type": "markdown",
   "metadata": {
    "deletable": true,
    "editable": true
   },
   "source": [
    "We can see that in both cases, we're going through the numbers 1 - 5 with `range(1, 6)` and those `num`s are being assigned as keys. The values assigned to those keys are the squares of the keys, assigned with `squares_dict[num] = num ** 2` and `num: num ** 2`, respectively. Just as with list comprehensions, dictionary comprehensions read as the first thing being the `key: value` pair being added to the dictionary. Then, left to right (top down in the old way), we have what the loop definition would look like. And, just as with list comps, we can add a condition to filter what gets put into the dictionary.\n",
    "\n",
    "Say that we want a dictionary with a random integer between 1 and 10, associated with each of the values in the list of words: `['cow', 'chicken', 'horse', 'moose']`. Let's look at how we'd do that with a dictionary comprehension. (We're importing from the Python library `random` to get our random integers. We'll talk more about importing later in the course.)"
   ]
  },
  {
   "cell_type": "code",
   "execution_count": 5,
   "metadata": {
    "collapsed": true,
    "deletable": true,
    "editable": true
   },
   "outputs": [],
   "source": [
    "from random import randint\n",
    "animals_list = ['cow', 'chicken', 'horse', 'moose']"
   ]
  },
  {
   "cell_type": "code",
   "execution_count": 6,
   "metadata": {
    "collapsed": false,
    "deletable": true,
    "editable": true
   },
   "outputs": [
    {
     "name": "stdout",
     "output_type": "stream",
     "text": [
      "{'moose': 9, 'chicken': 8, 'horse': 6, 'cow': 6}\n"
     ]
    }
   ],
   "source": [
    "animals_dict = {animal: randint(1, 10) for animal in animals_list}\n",
    "print animals_dict"
   ]
  },
  {
   "cell_type": "markdown",
   "metadata": {
    "deletable": true,
    "editable": true
   },
   "source": [
    "#### Other Comprehensions\n",
    "\n",
    "You can actually use the syntax from the list comprehensions to construct a tuple in what seems like a dynamic way. Take the example.\n"
   ]
  },
  {
   "cell_type": "code",
   "execution_count": 7,
   "metadata": {
    "collapsed": false,
    "deletable": true,
    "editable": true
   },
   "outputs": [
    {
     "name": "stdout",
     "output_type": "stream",
     "text": [
      "(0, 2, 4, 6, 8)\n"
     ]
    }
   ],
   "source": [
    "my_tuple = tuple(num for num in range(10) if num % 2 == 0)\n",
    "print my_tuple"
   ]
  },
  {
   "cell_type": "markdown",
   "metadata": {
    "deletable": true,
    "editable": true
   },
   "source": [
    "All we are doing here is passing `num for num in range(10) if num % 2 == 0` to the tuple constructor, `()`. Since the tuple constructor takes any iterable, which that statement produces, it makes a tuple out of the contents. Note that it would be impossible to make a tuple with statements like this the \"old way\", since tuples don't support appending or mutation of any kind!\n",
    "\n",
    "For this reason, in addition to their readability, comprehensions of all types are considered the most Pythonic way of constructing new data structures.\n",
    "\n",
    "##### Construction Questions \n",
    "\n",
    "1. Take the following for loop, and translate it into a list. comprehensions: \n",
    "      ```python \n",
    "           odds = []\n",
    "           for num in range(10): \n",
    "               if num % 2 != 0: \n",
    "                   odds.append(num)\n",
    "       ```\n",
    "       \n",
    "1. Take the following for loop, and translate it into a dictionary comprehensions: \n",
    "      ```python \n",
    "           cubes = {}\n",
    "           for num in range(1, 6): \n",
    "               cubes[num] = num **  3\n",
    "       ```"
   ]
  },
  {
   "cell_type": "code",
   "execution_count": null,
   "metadata": {
    "collapsed": true,
    "deletable": true,
    "editable": true
   },
   "outputs": [],
   "source": []
  }
 ],
 "metadata": {
  "kernelspec": {
   "display_name": "Python 3",
   "language": "python",
   "name": "python3"
  },
  "language_info": {
   "codemirror_mode": {
    "name": "ipython",
    "version": 3
   },
   "file_extension": ".py",
   "mimetype": "text/x-python",
   "name": "python",
   "nbconvert_exporter": "python",
   "pygments_lexer": "ipython3",
   "version": "3.6.0"
  }
 },
 "nbformat": 4,
 "nbformat_minor": 0
}
